{
 "cells": [
  {
   "cell_type": "markdown",
   "id": "d01449ea",
   "metadata": {},
   "source": [
    "Import libraries"
   ]
  },
  {
   "cell_type": "code",
   "execution_count": 4,
   "id": "f2407df8",
   "metadata": {},
   "outputs": [],
   "source": [
    "from tensorflow.keras.preprocessing.image import ImageDataGenerator,load_img,img_to_array\n",
    "from keras.models import Sequential\n",
    "from keras.layers import Conv2D,MaxPooling2D,Flatten,Dense,Dropout\n",
    "from keras.callbacks import EarlyStopping"
   ]
  },
  {
   "cell_type": "markdown",
   "id": "51526b9e",
   "metadata": {},
   "source": [
    "Dataset path (train,test,validation)"
   ]
  },
  {
   "cell_type": "code",
   "execution_count": null,
   "id": "4e39e953",
   "metadata": {},
   "outputs": [],
   "source": [
    "image_size=(224,224)\n",
    "batch_size=16\n",
    "\n",
    "train_data=r\"D:\\ALL\\DL\\image_identify\\dataset\\train\"\n",
    "val_data=r\"D:\\ALL\\DL\\image_identify\\dataset\\val\"\n",
    "test_data=r\"D:\\ALL\\DL\\image_identify\\dataset\\test\""
   ]
  },
  {
   "cell_type": "markdown",
   "id": "5392f5d5",
   "metadata": {},
   "source": [
    "Image preprocessing -Augmentation (Train_data )"
   ]
  },
  {
   "cell_type": "code",
   "execution_count": 6,
   "id": "b2aba25a",
   "metadata": {},
   "outputs": [],
   "source": [
    "train_datagen=ImageDataGenerator(rescale=1./255,\n",
    "                            width_shift_range=0.2,\n",
    "                            height_shift_range=0.2,\n",
    "                            shear_range=0.2,\n",
    "                            zoom_range=0.2,\n",
    "                            horizontal_flip=True,\n",
    "                            fill_mode=\"nearest\",\n",
    "                            brightness_range=[0.5,1.5] )       "
   ]
  },
  {
   "cell_type": "code",
   "execution_count": 7,
   "id": "194e245e",
   "metadata": {},
   "outputs": [],
   "source": [
    "data_gen=ImageDataGenerator(rescale=1./255)"
   ]
  },
  {
   "cell_type": "code",
   "execution_count": 8,
   "id": "eba35c51",
   "metadata": {},
   "outputs": [
    {
     "name": "stdout",
     "output_type": "stream",
     "text": [
      "Found 456 images belonging to 6 classes.\n",
      "{'cheetah': 0, 'fox': 1, 'hyena': 2, 'lion': 3, 'tiger': 4, 'wolf': 5}\n",
      "456\n"
     ]
    }
   ],
   "source": [
    "train=train_datagen.flow_from_directory(train_data,\n",
    "                                   target_size=image_size,\n",
    "                                   batch_size=batch_size,\n",
    "                                   class_mode=\"sparse\")\n",
    "\n",
    "print(train.class_indices) \n",
    "print(train.samples) \n",
    "                                 "
   ]
  },
  {
   "cell_type": "code",
   "execution_count": 9,
   "id": "64eb1a43",
   "metadata": {},
   "outputs": [
    {
     "name": "stdout",
     "output_type": "stream",
     "text": [
      "Found 78 images belonging to 6 classes.\n",
      "{'cheetah': 0, 'fox': 1, 'hyena': 2, 'lion': 3, 'tiger': 4, 'wolf': 5}\n",
      "78\n"
     ]
    }
   ],
   "source": [
    "val=data_gen.flow_from_directory(val_data,\n",
    "                                 target_size=image_size,\n",
    "                                 batch_size=batch_size,\n",
    "                                 class_mode=\"sparse\")\n",
    "print(val.class_indices)    \n",
    "print(val.samples)                             \n"
   ]
  },
  {
   "cell_type": "markdown",
   "id": "5f4f377f",
   "metadata": {},
   "source": [
    "Read Test data"
   ]
  },
  {
   "cell_type": "code",
   "execution_count": 10,
   "id": "f63f6638",
   "metadata": {},
   "outputs": [
    {
     "name": "stdout",
     "output_type": "stream",
     "text": [
      "Found 72 images belonging to 6 classes.\n",
      "{'cheetah': 0, 'fox': 1, 'hyena': 2, 'lion': 3, 'tiger': 4, 'wolf': 5}\n",
      "72\n"
     ]
    }
   ],
   "source": [
    "test=data_gen.flow_from_directory(test_data,\n",
    "                                 target_size=image_size,\n",
    "                                 batch_size=batch_size,\n",
    "                                 class_mode=\"sparse\")\n",
    "print(test.class_indices)\n",
    "print(test.samples)                                 "
   ]
  },
  {
   "cell_type": "markdown",
   "id": "a1d34f29",
   "metadata": {},
   "source": [
    "CNN (Layers)"
   ]
  },
  {
   "cell_type": "code",
   "execution_count": 11,
   "id": "1beaf282",
   "metadata": {},
   "outputs": [],
   "source": [
    "model=Sequential ([ #Input layer\n",
    "      Conv2D(32,(3,3),input_shape=(image_size[0],image_size[1],3),activation=\"relu\"),\n",
    "      MaxPooling2D(2,2),\n",
    "\n",
    "      #hidden Layer\n",
    "      Conv2D(64,(3,3),activation=\"relu\"),\n",
    "      MaxPooling2D(2,2),\n",
    "\n",
    "      Conv2D(128,(3,3),activation=\"relu\"),\n",
    "      MaxPooling2D(2,2),\n",
    "       \n",
    "\n",
    "      Flatten(),\n",
    "      Dense(256,activation=\"relu\"),\n",
    "      Dropout(0.3),\n",
    "\n",
    "      #Output layer\n",
    "      Dense(6,activation=\"softmax\")\n",
    "      ])"
   ]
  },
  {
   "cell_type": "markdown",
   "id": "1c4e72ca",
   "metadata": {},
   "source": [
    "Compile the model "
   ]
  },
  {
   "cell_type": "code",
   "execution_count": 12,
   "id": "50e99881",
   "metadata": {},
   "outputs": [],
   "source": [
    "model.compile(optimizer=\"adam\",\n",
    "               loss=\"sparse_categorical_crossentropy\",\n",
    "               metrics=[\"accuracy\"])"
   ]
  },
  {
   "cell_type": "markdown",
   "id": "87e4c7d4",
   "metadata": {},
   "source": [
    "Earlystop to prevent overfitting"
   ]
  },
  {
   "cell_type": "code",
   "execution_count": 13,
   "id": "b97922d7",
   "metadata": {},
   "outputs": [],
   "source": [
    "early=EarlyStopping(monitor=\"val_loss\",\n",
    "                    patience=5,\n",
    "                    restore_best_weights=True,\n",
    "                   )"
   ]
  },
  {
   "cell_type": "code",
   "execution_count": 21,
   "id": "c0cd1dac",
   "metadata": {},
   "outputs": [
    {
     "name": "stdout",
     "output_type": "stream",
     "text": [
      "Epoch 1/50\n",
      "29/29 [==============================] - 158s 5s/step - loss: 0.8936 - accuracy: 0.6645 - val_loss: 1.4182 - val_accuracy: 0.5897\n",
      "Epoch 2/50\n",
      "29/29 [==============================] - 145s 5s/step - loss: 0.8280 - accuracy: 0.6820 - val_loss: 1.5021 - val_accuracy: 0.4872\n",
      "Epoch 3/50\n",
      "29/29 [==============================] - 146s 5s/step - loss: 0.8829 - accuracy: 0.6754 - val_loss: 1.3740 - val_accuracy: 0.5769\n",
      "Epoch 4/50\n",
      "29/29 [==============================] - 144s 5s/step - loss: 0.8738 - accuracy: 0.6776 - val_loss: 1.1160 - val_accuracy: 0.6154\n",
      "Epoch 5/50\n",
      "29/29 [==============================] - 146s 5s/step - loss: 0.8775 - accuracy: 0.6623 - val_loss: 1.2835 - val_accuracy: 0.5897\n",
      "Epoch 6/50\n",
      "29/29 [==============================] - 143s 5s/step - loss: 0.8271 - accuracy: 0.6886 - val_loss: 1.2565 - val_accuracy: 0.5513\n",
      "Epoch 7/50\n",
      "29/29 [==============================] - 145s 5s/step - loss: 0.7923 - accuracy: 0.6952 - val_loss: 1.1663 - val_accuracy: 0.6026\n",
      "Epoch 8/50\n",
      "29/29 [==============================] - 149s 5s/step - loss: 0.7185 - accuracy: 0.7061 - val_loss: 1.4276 - val_accuracy: 0.5769\n",
      "Epoch 9/50\n",
      "29/29 [==============================] - 145s 5s/step - loss: 0.8451 - accuracy: 0.6689 - val_loss: 1.4055 - val_accuracy: 0.5000\n",
      "Epoch 10/50\n",
      "29/29 [==============================] - 144s 5s/step - loss: 0.7175 - accuracy: 0.7215 - val_loss: 1.3469 - val_accuracy: 0.5256\n",
      "Epoch 11/50\n",
      "29/29 [==============================] - 145s 5s/step - loss: 0.7652 - accuracy: 0.7105 - val_loss: 1.2885 - val_accuracy: 0.5641\n",
      "Epoch 12/50\n",
      "29/29 [==============================] - 149s 5s/step - loss: 0.7809 - accuracy: 0.6908 - val_loss: 1.7021 - val_accuracy: 0.5256\n",
      "Epoch 13/50\n",
      "29/29 [==============================] - 145s 5s/step - loss: 0.6956 - accuracy: 0.7237 - val_loss: 1.6807 - val_accuracy: 0.5256\n",
      "Epoch 14/50\n",
      "29/29 [==============================] - 146s 5s/step - loss: 0.6976 - accuracy: 0.7149 - val_loss: 1.8575 - val_accuracy: 0.5128\n",
      "Epoch 15/50\n",
      "29/29 [==============================] - 141s 5s/step - loss: 0.7915 - accuracy: 0.6952 - val_loss: 1.5938 - val_accuracy: 0.5769\n",
      "Epoch 16/50\n",
      "29/29 [==============================] - 141s 5s/step - loss: 0.8417 - accuracy: 0.6798 - val_loss: 1.3812 - val_accuracy: 0.5513\n",
      "Epoch 17/50\n",
      "29/29 [==============================] - 142s 5s/step - loss: 0.6760 - accuracy: 0.7456 - val_loss: 2.1750 - val_accuracy: 0.4744\n",
      "Epoch 18/50\n",
      "29/29 [==============================] - 143s 5s/step - loss: 0.6210 - accuracy: 0.7588 - val_loss: 1.3904 - val_accuracy: 0.6538\n",
      "Epoch 19/50\n",
      "29/29 [==============================] - 139s 5s/step - loss: 0.7093 - accuracy: 0.7325 - val_loss: 1.2279 - val_accuracy: 0.6282\n",
      "Epoch 20/50\n",
      "29/29 [==============================] - 145s 5s/step - loss: 0.7063 - accuracy: 0.7456 - val_loss: 1.3038 - val_accuracy: 0.6410\n",
      "Epoch 21/50\n",
      "29/29 [==============================] - 147s 5s/step - loss: 0.6336 - accuracy: 0.7697 - val_loss: 1.6286 - val_accuracy: 0.5769\n",
      "Epoch 22/50\n",
      "29/29 [==============================] - 141s 5s/step - loss: 0.6247 - accuracy: 0.7434 - val_loss: 1.4353 - val_accuracy: 0.6282\n",
      "Epoch 23/50\n",
      "29/29 [==============================] - 140s 5s/step - loss: 0.6285 - accuracy: 0.7588 - val_loss: 1.1992 - val_accuracy: 0.5897\n",
      "Epoch 24/50\n",
      "29/29 [==============================] - 139s 5s/step - loss: 0.7010 - accuracy: 0.7303 - val_loss: 1.8385 - val_accuracy: 0.6282\n",
      "Epoch 25/50\n",
      "29/29 [==============================] - 142s 5s/step - loss: 0.6302 - accuracy: 0.7785 - val_loss: 1.2558 - val_accuracy: 0.6538\n",
      "Epoch 26/50\n",
      "29/29 [==============================] - 149s 5s/step - loss: 0.6436 - accuracy: 0.7829 - val_loss: 1.2235 - val_accuracy: 0.6026\n",
      "Epoch 27/50\n",
      "29/29 [==============================] - 145s 5s/step - loss: 0.6073 - accuracy: 0.7807 - val_loss: 1.5430 - val_accuracy: 0.6154\n",
      "Epoch 28/50\n",
      "29/29 [==============================] - 143s 5s/step - loss: 0.5819 - accuracy: 0.7807 - val_loss: 1.6972 - val_accuracy: 0.6154\n",
      "Epoch 29/50\n",
      "29/29 [==============================] - 142s 5s/step - loss: 0.5320 - accuracy: 0.7982 - val_loss: 1.3569 - val_accuracy: 0.6923\n",
      "Epoch 30/50\n",
      "29/29 [==============================] - 141s 5s/step - loss: 0.6531 - accuracy: 0.7456 - val_loss: 1.4482 - val_accuracy: 0.6282\n",
      "Epoch 31/50\n",
      "29/29 [==============================] - 145s 5s/step - loss: 0.6438 - accuracy: 0.7632 - val_loss: 1.1891 - val_accuracy: 0.6410\n",
      "Epoch 32/50\n",
      "29/29 [==============================] - 141s 5s/step - loss: 0.5043 - accuracy: 0.7982 - val_loss: 1.5014 - val_accuracy: 0.6410\n",
      "Epoch 33/50\n",
      "29/29 [==============================] - 146s 5s/step - loss: 0.6765 - accuracy: 0.7412 - val_loss: 1.4281 - val_accuracy: 0.6154\n",
      "Epoch 34/50\n",
      "29/29 [==============================] - 141s 5s/step - loss: 0.5582 - accuracy: 0.8048 - val_loss: 1.3111 - val_accuracy: 0.7179\n",
      "Epoch 35/50\n",
      "29/29 [==============================] - 141s 5s/step - loss: 0.5298 - accuracy: 0.8026 - val_loss: 1.6848 - val_accuracy: 0.6154\n",
      "Epoch 36/50\n",
      "29/29 [==============================] - 140s 5s/step - loss: 0.5014 - accuracy: 0.8311 - val_loss: 1.7496 - val_accuracy: 0.6410\n",
      "Epoch 37/50\n",
      "29/29 [==============================] - 143s 5s/step - loss: 0.5341 - accuracy: 0.8158 - val_loss: 1.9427 - val_accuracy: 0.6026\n",
      "Epoch 38/50\n",
      "29/29 [==============================] - 139s 5s/step - loss: 0.6847 - accuracy: 0.7544 - val_loss: 1.1122 - val_accuracy: 0.6410\n",
      "Epoch 39/50\n",
      "29/29 [==============================] - 147s 5s/step - loss: 0.4795 - accuracy: 0.8004 - val_loss: 1.4106 - val_accuracy: 0.6538\n",
      "Epoch 40/50\n",
      "29/29 [==============================] - 155s 5s/step - loss: 0.4979 - accuracy: 0.8268 - val_loss: 1.2785 - val_accuracy: 0.7051\n",
      "Epoch 41/50\n",
      "29/29 [==============================] - 148s 5s/step - loss: 0.5647 - accuracy: 0.8004 - val_loss: 1.5041 - val_accuracy: 0.6667\n",
      "Epoch 42/50\n",
      "29/29 [==============================] - 142s 5s/step - loss: 0.5371 - accuracy: 0.7939 - val_loss: 1.3316 - val_accuracy: 0.6282\n",
      "Epoch 43/50\n",
      "29/29 [==============================] - 144s 5s/step - loss: 0.4701 - accuracy: 0.8311 - val_loss: 1.3284 - val_accuracy: 0.6795\n",
      "Epoch 44/50\n",
      "29/29 [==============================] - 141s 5s/step - loss: 0.5237 - accuracy: 0.7917 - val_loss: 1.6489 - val_accuracy: 0.6538\n",
      "Epoch 45/50\n",
      "29/29 [==============================] - 145s 5s/step - loss: 0.5490 - accuracy: 0.8004 - val_loss: 1.2325 - val_accuracy: 0.7051\n",
      "Epoch 46/50\n",
      "29/29 [==============================] - 148s 5s/step - loss: 0.5868 - accuracy: 0.7785 - val_loss: 1.1818 - val_accuracy: 0.6667\n",
      "Epoch 47/50\n",
      "29/29 [==============================] - 145s 5s/step - loss: 0.4663 - accuracy: 0.8399 - val_loss: 1.1698 - val_accuracy: 0.6667\n",
      "Epoch 48/50\n",
      "29/29 [==============================] - 142s 5s/step - loss: 0.5048 - accuracy: 0.8136 - val_loss: 1.3265 - val_accuracy: 0.6154\n",
      "Epoch 49/50\n",
      "29/29 [==============================] - 143s 5s/step - loss: 0.5277 - accuracy: 0.7829 - val_loss: 1.5116 - val_accuracy: 0.6795\n",
      "Epoch 50/50\n",
      "29/29 [==============================] - 150s 5s/step - loss: 0.5210 - accuracy: 0.8048 - val_loss: 1.2309 - val_accuracy: 0.6282\n"
     ]
    }
   ],
   "source": [
    "model_train=model.fit(train,\n",
    "                      validation_data=val,\n",
    "                      epochs=50    #30-67%\n",
    "                       )                      "
   ]
  },
  {
   "cell_type": "markdown",
   "id": "682efe9a",
   "metadata": {},
   "source": [
    "Model save in Hierarchical file"
   ]
  },
  {
   "cell_type": "code",
   "execution_count": 22,
   "id": "645ca481",
   "metadata": {},
   "outputs": [],
   "source": [
    "model.save(\"wild.h5\")"
   ]
  },
  {
   "cell_type": "code",
   "execution_count": 23,
   "id": "735ccf3a",
   "metadata": {},
   "outputs": [
    {
     "name": "stdout",
     "output_type": "stream",
     "text": [
      "Model: \"sequential\"\n",
      "_________________________________________________________________\n",
      " Layer (type)                Output Shape              Param #   \n",
      "=================================================================\n",
      " conv2d (Conv2D)             (None, 222, 222, 32)      896       \n",
      "                                                                 \n",
      " max_pooling2d (MaxPooling2D  (None, 111, 111, 32)     0         \n",
      " )                                                               \n",
      "                                                                 \n",
      " conv2d_1 (Conv2D)           (None, 109, 109, 64)      18496     \n",
      "                                                                 \n",
      " max_pooling2d_1 (MaxPooling  (None, 54, 54, 64)       0         \n",
      " 2D)                                                             \n",
      "                                                                 \n",
      " conv2d_2 (Conv2D)           (None, 52, 52, 128)       73856     \n",
      "                                                                 \n",
      " max_pooling2d_2 (MaxPooling  (None, 26, 26, 128)      0         \n",
      " 2D)                                                             \n",
      "                                                                 \n",
      " flatten (Flatten)           (None, 86528)             0         \n",
      "                                                                 \n",
      " dense (Dense)               (None, 256)               22151424  \n",
      "                                                                 \n",
      " dropout (Dropout)           (None, 256)               0         \n",
      "                                                                 \n",
      " dense_1 (Dense)             (None, 6)                 1542      \n",
      "                                                                 \n",
      "=================================================================\n",
      "Total params: 22,246,214\n",
      "Trainable params: 22,246,214\n",
      "Non-trainable params: 0\n",
      "_________________________________________________________________\n"
     ]
    }
   ],
   "source": [
    "model.summary()"
   ]
  },
  {
   "cell_type": "markdown",
   "id": "6d61db3e",
   "metadata": {},
   "source": [
    "Test_data evaluate "
   ]
  },
  {
   "cell_type": "code",
   "execution_count": null,
   "id": "2ff9f6b4",
   "metadata": {},
   "outputs": [
    {
     "name": "stdout",
     "output_type": "stream",
     "text": [
      "5/5 [==============================] - 8s 1s/step - loss: 1.0544 - accuracy: 0.6528\n",
      "testloss:1.0544321537017822\n",
      "test accuracy:0.6527777910232544\n"
     ]
    }
   ],
   "source": [
    "test_loss,test_accuracy=model.evaluate(test)\n",
    "\n",
    "print(f\"testloss:{test_loss}\")\n",
    "print(f\"test accuracy:{test_accuracy}\")"
   ]
  },
  {
   "cell_type": "code",
   "execution_count": null,
   "id": "80136488",
   "metadata": {},
   "outputs": [],
   "source": [
    "from tensorflow.keras.preprocessing.image import load_img,img_to_array\n",
    "from keras.models import load_model\n",
    "import numpy as np\n",
    "\n",
    "model=load_model(\"wild.h5\")\n",
    "\n",
    "image_path=r\"D:\\ALL\\DL\\image_identify\\dataset\\test\\cheetah\\00000096_224resized.png\"\n",
    "\n",
    "img=load_img(image_path,target_size=(224,224))\n",
    "img_array=img_to_array(img)/255.0\n",
    "img_expand=np.expand_dims(img_array,axis=0)\n"
   ]
  },
  {
   "cell_type": "code",
   "execution_count": null,
   "id": "efb00a79",
   "metadata": {},
   "outputs": [
    {
     "name": "stdout",
     "output_type": "stream",
     "text": [
      "1/1 [==============================] - 1s 1s/step\n",
      "predicted:Cheetah\n"
     ]
    }
   ],
   "source": [
    "class_names=[\"Cheetah\",\"Fox\",\"Hyena\",\"Lion\",\"Tiger\",\"Wolf\"]\n",
    "\n",
    "predict=model.predict(img_expand)\n",
    "classes=np.argmax(predict)\n",
    "\n",
    "print(f\"predicted:{class_names[classes]}\")"
   ]
  }
 ],
 "metadata": {
  "kernelspec": {
   "display_name": "Python 3",
   "language": "python",
   "name": "python3"
  },
  "language_info": {
   "codemirror_mode": {
    "name": "ipython",
    "version": 3
   },
   "file_extension": ".py",
   "mimetype": "text/x-python",
   "name": "python",
   "nbconvert_exporter": "python",
   "pygments_lexer": "ipython3",
   "version": "3.9.6"
  }
 },
 "nbformat": 4,
 "nbformat_minor": 5
}
